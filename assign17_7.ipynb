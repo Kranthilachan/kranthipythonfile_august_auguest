{
 "cells": [
  {
   "cell_type": "code",
   "execution_count": 6,
   "id": "d468eedc-700d-463d-bcf8-3fe16e1ef2d7",
   "metadata": {},
   "outputs": [
    {
     "data": {
      "text/plain": [
       "['hi', 'welcome', 'to', 'nareshit']"
      ]
     },
     "execution_count": 6,
     "metadata": {},
     "output_type": "execute_result"
    }
   ],
   "source": [
    "s=\"hi welcome to nareshit\"\n",
    "s.split()\n"
   ]
  },
  {
   "cell_type": "code",
   "execution_count": 10,
   "id": "acf86dbd-93ef-464e-9f61-0c68fbb9b019",
   "metadata": {},
   "outputs": [
    {
     "name": "stdout",
     "output_type": "stream",
     "text": [
      "hello kranthi welcome to nareshit\n"
     ]
    }
   ],
   "source": [
    "s=\"      kranthi          \"\n",
    "s1=s.strip()\n",
    "print(\"hello\", s1, \"welcome to nareshit\")"
   ]
  },
  {
   "cell_type": "code",
   "execution_count": 11,
   "id": "dc897928-ae27-4468-8a97-16aba9986268",
   "metadata": {},
   "outputs": [
    {
     "name": "stdout",
     "output_type": "stream",
     "text": [
      "hello kranthi           welcome to nareshit\n"
     ]
    }
   ],
   "source": [
    "s=\"      kranthi          \"\n",
    "s1=s.lstrip()\n",
    "print(\"hello\", s1, \"welcome to nareshit\")"
   ]
  },
  {
   "cell_type": "code",
   "execution_count": 12,
   "id": "d9eef428-1285-445c-9bfc-6a3e19bc555e",
   "metadata": {},
   "outputs": [
    {
     "name": "stdout",
     "output_type": "stream",
     "text": [
      "hello       kranthi welcome to nareshit\n"
     ]
    }
   ],
   "source": [
    "s=\"      kranthi          \"\n",
    "s1=s.rstrip()\n",
    "print(\"hello\", s1, \"welcome to nareshit\")"
   ]
  },
  {
   "cell_type": "code",
   "execution_count": 14,
   "id": "a7880de2-fbee-4b31-a44a-b51f42996222",
   "metadata": {},
   "outputs": [
    {
     "name": "stdout",
     "output_type": "stream",
     "text": [
      "True\n"
     ]
    }
   ],
   "source": [
    "s=\"kranthi\"\n",
    "s1=s.startswith(\"k\")\n",
    "print(s1)"
   ]
  },
  {
   "cell_type": "code",
   "execution_count": 15,
   "id": "66923840-b17d-49ae-9709-26991130dadc",
   "metadata": {},
   "outputs": [
    {
     "name": "stdout",
     "output_type": "stream",
     "text": [
      "False\n"
     ]
    }
   ],
   "source": [
    "s=\"kranthi\"\n",
    "s1=s.endswith(\"k\")\n",
    "print(s1)"
   ]
  },
  {
   "cell_type": "code",
   "execution_count": 16,
   "id": "f586a42b-90d4-4a8b-a90c-17a3a367482d",
   "metadata": {},
   "outputs": [
    {
     "name": "stdout",
     "output_type": "stream",
     "text": [
      "False\n"
     ]
    }
   ],
   "source": [
    "s=\"kranthi\"\n",
    "s1=s.startswith(\"i\")\n",
    "print(s1)"
   ]
  },
  {
   "cell_type": "code",
   "execution_count": 17,
   "id": "78a7cfc5-1f9e-4442-98ce-12f96ee9b25a",
   "metadata": {},
   "outputs": [
    {
     "name": "stdout",
     "output_type": "stream",
     "text": [
      "True\n"
     ]
    }
   ],
   "source": [
    "s=\"kranthi\"\n",
    "s1=s.endswith(\"i\")\n",
    "print(s1)"
   ]
  },
  {
   "cell_type": "code",
   "execution_count": null,
   "id": "479521a5-78da-4ce4-ba5b-11a09d690c6a",
   "metadata": {},
   "outputs": [],
   "source": []
  }
 ],
 "metadata": {
  "kernelspec": {
   "display_name": "Python 3 (ipykernel)",
   "language": "python",
   "name": "python3"
  },
  "language_info": {
   "codemirror_mode": {
    "name": "ipython",
    "version": 3
   },
   "file_extension": ".py",
   "mimetype": "text/x-python",
   "name": "python",
   "nbconvert_exporter": "python",
   "pygments_lexer": "ipython3",
   "version": "3.11.7"
  }
 },
 "nbformat": 4,
 "nbformat_minor": 5
}
