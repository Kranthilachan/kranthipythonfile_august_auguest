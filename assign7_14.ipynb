{
 "cells": [
  {
   "cell_type": "code",
   "execution_count": 5,
   "id": "d3916c6a-904b-444b-af75-b93607a77e3e",
   "metadata": {},
   "outputs": [
    {
     "name": "stdout",
     "output_type": "stream",
     "text": [
      "positive index p is 0\n",
      "positive index y is 1\n",
      "positive index t is 2\n",
      "positive index h is 3\n",
      "positive index o is 4\n",
      "positive index n is 5\n"
     ]
    }
   ],
   "source": [
    "s=\"python\"\n",
    "for i in range(len(s)):\n",
    "    print(f'positive index {s[i]} is {i}')"
   ]
  },
  {
   "cell_type": "code",
   "execution_count": 6,
   "id": "fc44354b-f52a-4554-bd57-d56d316218af",
   "metadata": {},
   "outputs": [
    {
     "name": "stdout",
     "output_type": "stream",
     "text": [
      "0 -6\n",
      "1 -5\n",
      "2 -4\n",
      "3 -3\n",
      "4 -2\n",
      "5 -1\n",
      "6 0\n"
     ]
    }
   ],
   "source": [
    "n1=\"welcome\"\n",
    "for i in range(len(n1)):\n",
    "    print(i,i-len(s))"
   ]
  },
  {
   "cell_type": "code",
   "execution_count": 1,
   "id": "1643cb88-093d-432f-822c-23629baa23cb",
   "metadata": {},
   "outputs": [],
   "source": [
    "s='hai how are you iam good'\n",
    "count = 0\n",
    "for i in range (len(s)):\n",
    "    if s=='a':\n",
    "        count=count+1\n",
    "        print(count)\n",
    "        \n",
    "    "
   ]
  },
  {
   "cell_type": "code",
   "execution_count": 13,
   "id": "e9caa3de-d6da-4a6f-aa3c-7739b407ae35",
   "metadata": {},
   "outputs": [
    {
     "name": "stdout",
     "output_type": "stream",
     "text": [
      "27\n"
     ]
    }
   ],
   "source": [
    "s=\"hai how are you dear\"\n",
    "count=0\n",
    "for i in range(len(s)):\n",
    "    if s[i]=='a':\n",
    "        count=i+count\n",
    "print(count)"
   ]
  },
  {
   "cell_type": "code",
   "execution_count": null,
   "id": "1565e44c-692a-418c-9ac5-7d4abcc17dc6",
   "metadata": {},
   "outputs": [],
   "source": [
    "s=\"python\"\n",
    "for i in range(len(s)):\n",
    "    print(f'positive index {s[i]} is {i}')"
   ]
  },
  {
   "cell_type": "code",
   "execution_count": null,
   "id": "cadc400a-36d1-465a-8fd2-52881eef757f",
   "metadata": {},
   "outputs": [],
   "source": [
    "str='hai how are you'\n",
    "count=0\n",
    "for i in str:\n",
    "    if i=='a':\n",
    "        count=count+1\n",
    "print(count)"
   ]
  },
  {
   "cell_type": "code",
   "execution_count": null,
   "id": "73bf1dfe-23b1-4906-84c1-e1131cb0f5fc",
   "metadata": {},
   "outputs": [],
   "source": [
    "s='hai how are you'\n",
    "count=0\n",
    "for i in range (len(s)):\n",
    "    if s[i] in 'aeiou':\n",
    "        count=count+1\n",
    "print(count)"
   ]
  },
  {
   "cell_type": "code",
   "execution_count": null,
   "id": "4a4d317a-57c0-4886-b8ea-cee9cfe9674d",
   "metadata": {},
   "outputs": [],
   "source": [
    "s = \"hai how are you\"\n",
    "for i in s:\n",
    "    print(i)"
   ]
  },
  {
   "cell_type": "code",
   "execution_count": null,
   "id": "dfa5aa89-5dd9-4f71-a516-7d7f0293b8bd",
   "metadata": {},
   "outputs": [],
   "source": []
  },
  {
   "cell_type": "code",
   "execution_count": null,
   "id": "fcdefd1c-4e62-4281-817b-005d158bb22c",
   "metadata": {},
   "outputs": [],
   "source": [
    "s='hai how are you'\n",
    "count=0\n",
    "for i in range (len(s)):\n",
    "    if s[i] in 'aeiou':\n",
    "        count=count+1\n",
    "print(count)"
   ]
  },
  {
   "cell_type": "code",
   "execution_count": null,
   "id": "9b36c361-2698-4e25-87d3-ac2971f5762d",
   "metadata": {},
   "outputs": [],
   "source": []
  }
 ],
 "metadata": {
  "kernelspec": {
   "display_name": "Python 3 (ipykernel)",
   "language": "python",
   "name": "python3"
  },
  "language_info": {
   "codemirror_mode": {
    "name": "ipython",
    "version": 3
   },
   "file_extension": ".py",
   "mimetype": "text/x-python",
   "name": "python",
   "nbconvert_exporter": "python",
   "pygments_lexer": "ipython3",
   "version": "3.11.7"
  }
 },
 "nbformat": 4,
 "nbformat_minor": 5
}
