{
 "cells": [
  {
   "cell_type": "code",
   "execution_count": null,
   "id": "b2711e31-b0ca-493e-bd33-6febe7145b16",
   "metadata": {},
   "outputs": [],
   "source": [
    "# Q14) string1='ola ola ola'\n",
    "# Number of ola  = 3\n",
    "\n",
    "# Q15) string1='hello hello hello how how how how are you'\n",
    "# What is the most repeated word : how\n",
    "\n",
    "# Q16) string1='hellooooo how aree u'\n",
    "# what is the maximum length of word: helloooo\n",
    "# what is the minimum length of word: u\n",
    "\n",
    "# Q17) with out using sorted then sort the letters"
   ]
  },
  {
   "cell_type": "code",
   "execution_count": 2,
   "id": "cf754881-3901-4bdf-951a-93538d020641",
   "metadata": {},
   "outputs": [
    {
     "data": {
      "text/plain": [
       "3"
      ]
     },
     "execution_count": 2,
     "metadata": {},
     "output_type": "execute_result"
    }
   ],
   "source": [
    "string1='ola ola ola'\n",
    "count=0\n",
    "for i in range (len(string1)):\n",
    "    if string1[i:i+3]=='ola':\n",
    "        count=count+1\n",
    "count\n",
    "\n",
    "                "
   ]
  },
  {
   "cell_type": "code",
   "execution_count": 16,
   "id": "615037ed-99a4-4d5a-ad59-76330701149a",
   "metadata": {},
   "outputs": [
    {
     "name": "stdout",
     "output_type": "stream",
     "text": [
      "4\n"
     ]
    }
   ],
   "source": [
    "s1='hello hello hello how how how how are you'\n",
    "count1=0\n",
    "count2=0\n",
    "for i in range(len(s1)):\n",
    "    if s1[i:i+5]=='hello':\n",
    "        count1=count1+1\n",
    "    elif s1[i:i+3]=='how':\n",
    "        count2=count2+1\n",
    "if count1>count2:\n",
    "    print(count1)\n",
    "else:\n",
    "    print(count2)\n",
    "    "
   ]
  },
  {
   "cell_type": "code",
   "execution_count": null,
   "id": "49c04266-7741-4aea-b929-54a3205087d0",
   "metadata": {},
   "outputs": [],
   "source": [
    "# Q16) string1='hellooooo how aree u'\n",
    "# what is the maximum length of word: helloooo\n",
    "# what is the minimum length of word: u"
   ]
  },
  {
   "cell_type": "code",
   "execution_count": 14,
   "id": "b0841eb6-9c13-482a-85b2-a658a5d1f1d7",
   "metadata": {},
   "outputs": [
    {
     "name": "stdout",
     "output_type": "stream",
     "text": [
      "9\n",
      "1\n"
     ]
    }
   ],
   "source": [
    "s1='hellooooo how aree u'\n",
    "s2=s1.split()\n",
    "s3=s2[0]\n",
    "s5=s2[3]\n",
    "s4 = len(s3)\n",
    "s6=len(s5)\n",
    "print(s4)\n",
    "print(s6)\n"
   ]
  },
  {
   "cell_type": "code",
   "execution_count": 27,
   "id": "ef1dc429-4132-46d2-a3e3-419f4ea5b307",
   "metadata": {},
   "outputs": [
    {
     "name": "stdout",
     "output_type": "stream",
     "text": [
      "9\n",
      "1\n"
     ]
    }
   ],
   "source": [
    "s1='hellooooo how aree u'\n",
    "s2 = s1.split()\n",
    "for i in range(len(s2)):\n",
    "    s3=len(s2[0])\n",
    "    s4=len(s2[3])\n",
    "print(s3)\n",
    "print(s4)\n",
    "    \n",
    "        "
   ]
  },
  {
   "cell_type": "code",
   "execution_count": null,
   "id": "5c1c2c87-6121-4863-804f-a0a7ffa0c11e",
   "metadata": {},
   "outputs": [],
   "source": []
  }
 ],
 "metadata": {
  "kernelspec": {
   "display_name": "Python 3 (ipykernel)",
   "language": "python",
   "name": "python3"
  },
  "language_info": {
   "codemirror_mode": {
    "name": "ipython",
    "version": 3
   },
   "file_extension": ".py",
   "mimetype": "text/x-python",
   "name": "python",
   "nbconvert_exporter": "python",
   "pygments_lexer": "ipython3",
   "version": "3.11.7"
  }
 },
 "nbformat": 4,
 "nbformat_minor": 5
}
